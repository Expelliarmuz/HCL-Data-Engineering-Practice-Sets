{
 "cells": [
  {
   "cell_type": "markdown",
   "metadata": {},
   "source": [
    "**What is Seaborn?**"
   ]
  },
  {
   "cell_type": "markdown",
   "metadata": {},
   "source": [
    "Seaborn offers a variety of powerful tools for visualizing data, including scatter plots, line plots, bar plots, heat maps, and many more. It also provides support for advanced statistical analysis, such as regression analysis, distribution plots, and categorical plots."
   ]
  },
  {
   "cell_type": "markdown",
   "metadata": {},
   "source": [
    "**Installing Seaborn**"
   ]
  },
  {
   "cell_type": "code",
   "execution_count": null,
   "metadata": {},
   "outputs": [],
   "source": [
    "# install seaborn with pip\n",
    "!pip install seaborn"
   ]
  },
  {
   "cell_type": "code",
   "execution_count": null,
   "metadata": {},
   "outputs": [],
   "source": [
    "# install seaborn with conda\n",
    "!conda install seaborn"
   ]
  },
  {
   "cell_type": "markdown",
   "metadata": {},
   "source": [
    "**Sample Datasets**"
   ]
  },
  {
   "cell_type": "markdown",
   "metadata": {},
   "source": [
    "Seaborn provides several built-in datasets that we can use for data visualization and statistical analysis. These datasets are stored in pandas dataframes, making them easy to use with Seaborn's plotting functions."
   ]
  },
  {
   "cell_type": "code",
   "execution_count": null,
   "metadata": {},
   "outputs": [],
   "source": [
    "import warnings\n",
    "\n",
    "warnings.filterwarnings('ignore')"
   ]
  },
  {
   "cell_type": "code",
   "execution_count": null,
   "metadata": {},
   "outputs": [],
   "source": [
    "import seaborn as sns\n",
    "import matplotlib.pyplot as plt"
   ]
  },
  {
   "cell_type": "code",
   "execution_count": null,
   "metadata": {},
   "outputs": [],
   "source": [
    "print(sns.get_dataset_names())"
   ]
  },
  {
   "cell_type": "markdown",
   "metadata": {},
   "source": [
    "One of the most common datasets that’s also used in all the official examples of Seaborn is called `tips dataset`; it contains information about tips given in restaurants. Here's an example of loading and visualizing the Tips dataset in Seaborn:"
   ]
  },
  {
   "cell_type": "code",
   "execution_count": null,
   "metadata": {},
   "outputs": [],
   "source": [
    "# Load the Tips dataset\n",
    "\n",
    "tips = sns.load_dataset(\"tips\")\n",
    "\n",
    "# Create a histogram of the total bill amounts\n",
    "\n",
    "# sns.histplot(data=tips, x=\"total_bill\")\n",
    "tips.head()"
   ]
  },
  {
   "cell_type": "markdown",
   "metadata": {},
   "source": [
    "Here is another example of loading the `exercise` dataset."
   ]
  },
  {
   "cell_type": "code",
   "execution_count": null,
   "metadata": {},
   "outputs": [],
   "source": [
    "# Load the exercise dataset\n",
    "\n",
    "exercise = sns.load_dataset(\"exercise\")\n",
    "\n",
    "# check the head\n",
    "\n",
    "exercise.head()"
   ]
  },
  {
   "cell_type": "markdown",
   "metadata": {},
   "source": [
    "**Seaborn Plot types**"
   ]
  },
  {
   "cell_type": "markdown",
   "metadata": {},
   "source": [
    "Seaborn provides a wide range of plot types that can be used for data visualization and exploratory data analysis. Broadly speaking, any visualization can fall into one of the three categories. \n",
    "\n",
    "- Univariate – x only (contains only one axis of information)\n",
    "- Bivariate – x and y (contains two axis of information)\n",
    "- Trivariate – x, y, z (contains three axis of information)"
   ]
  },
  {
   "cell_type": "markdown",
   "metadata": {},
   "source": [
    "**Seaborn scatter plots**"
   ]
  },
  {
   "cell_type": "markdown",
   "metadata": {},
   "source": [
    "Scatter plots are used to visualize the relationship between two continuous variables. Each point on the plot represents a single data point, and the position of the point on the x and y-axis represents the values of the two variables. "
   ]
  },
  {
   "cell_type": "markdown",
   "metadata": {},
   "source": [
    "The plot can be customized with different colors and markers to help distinguish different groups of data points. In Seaborn, scatter plots can be created using the scatterplot() function. "
   ]
  },
  {
   "cell_type": "code",
   "execution_count": null,
   "metadata": {},
   "outputs": [],
   "source": [
    "tips = sns.load_dataset(\"tips\")\n",
    "\n",
    "sns.scatterplot(x=\"total_bill\", y=\"tip\", data=tips)"
   ]
  },
  {
   "cell_type": "markdown",
   "metadata": {},
   "source": [
    "This simple plot can be improved by customizing the `hue` and `size` parameters of the plot. Here’s how:"
   ]
  },
  {
   "cell_type": "code",
   "execution_count": null,
   "metadata": {},
   "outputs": [],
   "source": [
    "import matplotlib.pyplot as plt\n",
    "\n",
    "tips = sns.load_dataset(\"tips\")\n",
    "\n",
    "# customize the scatter plot\n",
    "\n",
    "sns.scatterplot(x=\"total_bill\", y=\"tip\", hue=\"sex\", size=\"size\", sizes=(50, 200), data=tips)\n",
    "\n",
    "# add labels and title\n",
    "\n",
    "plt.xlabel(\"Total Bill\")\n",
    "\n",
    "plt.ylabel(\"Tip\")\n",
    "\n",
    "plt.title(\"Relationship between Total Bill and Tip\")\n",
    "\n",
    "# display the plot\n",
    "\n",
    "plt.show()"
   ]
  },
  {
   "cell_type": "markdown",
   "metadata": {},
   "source": [
    "**Seaborn line plots**"
   ]
  },
  {
   "cell_type": "markdown",
   "metadata": {},
   "source": [
    "Line plots are used to visualize trends in data over time or other continuous variables. In a line plot, each data point is connected by a line, creating a smooth curve. In Seaborn, line plots can be created using the lineplot() function"
   ]
  },
  {
   "cell_type": "code",
   "execution_count": null,
   "metadata": {},
   "outputs": [],
   "source": [
    "fmri = sns.load_dataset(\"fmri\")\n",
    "\n",
    "sns.lineplot(x=\"timepoint\", y=\"signal\", data=fmri)"
   ]
  },
  {
   "cell_type": "markdown",
   "metadata": {},
   "source": [
    "We can very easily customize this by using `event` and `region` columns from the dataset."
   ]
  },
  {
   "cell_type": "code",
   "execution_count": null,
   "metadata": {},
   "outputs": [],
   "source": [
    "# customize the line plot\n",
    "\n",
    "sns.lineplot(x=\"timepoint\", y=\"signal\", hue=\"event\", style=\"region\", markers=True, dashes=False, data=fmri)\n",
    "\n",
    "# add labels and title\n",
    "\n",
    "plt.xlabel(\"Timepoint\")\n",
    "\n",
    "plt.ylabel(\"Signal Intensity\")\n",
    "\n",
    "plt.title(\"Changes in Signal Intensity over Time\")\n",
    "\n",
    "# display the plot\n",
    "\n",
    "plt.show()"
   ]
  },
  {
   "cell_type": "markdown",
   "metadata": {},
   "source": [
    "**Seaborn bar plots**"
   ]
  },
  {
   "cell_type": "markdown",
   "metadata": {},
   "source": [
    "Bar plots are used to visualize the relationship between a categorical variable and a continuous variable. In a bar plot, each bar represents the mean or median (or any aggregation) of the continuous variable for each category. In Seaborn, bar plots can be created using the barplot() function. "
   ]
  },
  {
   "cell_type": "code",
   "execution_count": null,
   "metadata": {},
   "outputs": [],
   "source": [
    "titanic = sns.load_dataset(\"titanic\")\n",
    "\n",
    "sns.barplot(x=\"class\", y=\"fare\", data=titanic)"
   ]
  },
  {
   "cell_type": "markdown",
   "metadata": {},
   "source": [
    "Let’s customize this plot by including `sex` column from the dataset."
   ]
  },
  {
   "cell_type": "code",
   "execution_count": null,
   "metadata": {},
   "outputs": [],
   "source": [
    "# customize the bar plot\n",
    "\n",
    "sns.barplot(x=\"class\", y=\"fare\", hue=\"sex\", ci=None, palette=\"muted\", data=titanic)\n",
    "\n",
    "# add labels and title\n",
    "\n",
    "plt.xlabel(\"Class\")\n",
    "\n",
    "plt.ylabel(\"Fare\")\n",
    "\n",
    "plt.title(\"Average Fare by Class and Gender on the Titanic\")\n",
    "\n",
    "# display the plot\n",
    "\n",
    "plt.show()"
   ]
  },
  {
   "cell_type": "markdown",
   "metadata": {},
   "source": [
    "**Seaborn histograms**"
   ]
  },
  {
   "cell_type": "markdown",
   "metadata": {},
   "source": [
    "Histograms visualize the distribution of a continuous variable. In a histogram, the data is divided into bins and the height of each bin represents the frequency or count of data points within that bin. In Seaborn, histograms can be created using the histplot() function."
   ]
  },
  {
   "cell_type": "code",
   "execution_count": null,
   "metadata": {},
   "outputs": [],
   "source": [
    "iris = sns.load_dataset(\"iris\")\n",
    "\n",
    "sns.histplot(x=\"petal_length\", data=iris)"
   ]
  },
  {
   "cell_type": "markdown",
   "metadata": {},
   "source": [
    "Customizing a histogram"
   ]
  },
  {
   "cell_type": "code",
   "execution_count": null,
   "metadata": {},
   "outputs": [],
   "source": [
    "# customize the histogram\n",
    "\n",
    "sns.histplot(data=iris, x=\"petal_length\", bins=20, kde=True, color=\"green\")\n",
    "\n",
    "# add labels and title\n",
    "\n",
    "plt.xlabel(\"Petal Length (cm)\")\n",
    "\n",
    "plt.ylabel(\"Frequency\")\n",
    "\n",
    "plt.title(\"Distribution of Petal Lengths in Iris Flowers\")\n",
    "\n",
    "# display the plot\n",
    "\n",
    "plt.show()"
   ]
  },
  {
   "cell_type": "markdown",
   "metadata": {},
   "source": [
    "**Seaborn density plots**"
   ]
  },
  {
   "cell_type": "markdown",
   "metadata": {},
   "source": [
    "Density plots, also known as kernel density plots, are a type of data visualization that display the distribution of a continuous variable. They are similar to histograms, but instead of representing the data as bars, density plots use a smooth curve to estimate the density of the data. In Seaborn, density plots can be created using the kdeplot() function. "
   ]
  },
  {
   "cell_type": "code",
   "execution_count": null,
   "metadata": {},
   "outputs": [],
   "source": [
    "tips = sns.load_dataset(\"tips\")\n",
    "\n",
    "sns.kdeplot(data=tips, x=\"total_bill\")"
   ]
  },
  {
   "cell_type": "markdown",
   "metadata": {},
   "source": [
    "Let’s improve the plot by customizing it."
   ]
  },
  {
   "cell_type": "code",
   "execution_count": null,
   "metadata": {},
   "outputs": [],
   "source": [
    "# Create a density plot of the \"total_bill\" column from the \"tips\" dataset\n",
    "\n",
    "# We use the \"hue\" parameter to differentiate between \"lunch\" and \"dinner\" meal times\n",
    "\n",
    "# We use the \"fill\" parameter to fill the area under the curve\n",
    "\n",
    "# We adjust the \"alpha\" and \"linewidth\" parameters to make the plot more visually appealing\n",
    "\n",
    "sns.kdeplot(data=tips, x=\"total_bill\", hue=\"time\", fill=True, alpha=0.6, linewidth=1.5)\n",
    "\n",
    "# Add a title and labels to the plot using Matplotlib\n",
    "\n",
    "plt.title(\"Density Plot of Total Bill by Meal Time\")\n",
    "\n",
    "plt.xlabel(\"Total Bill ($)\")\n",
    "\n",
    "plt.ylabel(\"Density\")\n",
    "\n",
    "# Show the plot\n",
    "\n",
    "plt.show()"
   ]
  },
  {
   "cell_type": "markdown",
   "metadata": {},
   "source": [
    "**Seaborn box plots**"
   ]
  },
  {
   "cell_type": "markdown",
   "metadata": {},
   "source": [
    "Box plots are a type of visualization that shows the distribution of a dataset. They are commonly used to compare the distribution of one or more variables across different categories."
   ]
  },
  {
   "cell_type": "code",
   "execution_count": null,
   "metadata": {},
   "outputs": [],
   "source": [
    "tips = sns.load_dataset(\"tips\")\n",
    "\n",
    "sns.boxplot(x=\"day\", y=\"total_bill\", data=tips)"
   ]
  },
  {
   "cell_type": "markdown",
   "metadata": {},
   "source": [
    "Customize the box plot by including `time` column from the dataset."
   ]
  },
  {
   "cell_type": "code",
   "execution_count": null,
   "metadata": {},
   "outputs": [],
   "source": [
    "# create a box plot of total bill by day and meal time, using the \"hue\" parameter to differentiate between lunch and dinner\n",
    "\n",
    "# customize the color scheme using the \"palette\" parameter\n",
    "\n",
    "# adjust the linewidth and fliersize parameters to make the plot more visually appealing\n",
    "\n",
    "sns.boxplot(x=\"day\", y=\"total_bill\", hue=\"time\", data=tips, palette=\"Set3\", linewidth=1.5, fliersize=4)\n",
    "\n",
    "# add a title, xlabel, and ylabel to the plot using Matplotlib functions\n",
    "\n",
    "plt.title(\"Box Plot of Total Bill by Day and Meal Time\")\n",
    "\n",
    "plt.xlabel(\"Day of the Week\")\n",
    "\n",
    "plt.ylabel(\"Total Bill ($)\")\n",
    "\n",
    "# display the plot\n",
    "\n",
    "plt.show()"
   ]
  },
  {
   "cell_type": "markdown",
   "metadata": {},
   "source": [
    "**Seaborn violin plots**"
   ]
  },
  {
   "cell_type": "markdown",
   "metadata": {},
   "source": [
    "A violin plot is a type of data visualization that combines aspects of both box plots and density plots. It displays a density estimate of the data, usually smoothed by a kernel density estimator, along with the interquartile range (IQR) and median in a box plot-like form. \n",
    "\n",
    "The width of the violin represents the density estimate, with wider parts indicating higher density, and the IQR and median are shown as a white dot and line within the violin."
   ]
  },
  {
   "cell_type": "code",
   "execution_count": null,
   "metadata": {},
   "outputs": [],
   "source": [
    "# load the iris dataset from Seaborn\n",
    "\n",
    "iris = sns.load_dataset(\"iris\")\n",
    "\n",
    "# create a violin plot of petal length by species\n",
    "\n",
    "sns.violinplot(x=\"species\", y=\"petal_length\", data=iris)\n",
    "\n",
    "# display the plot\n",
    "\n",
    "plt.show()"
   ]
  },
  {
   "cell_type": "markdown",
   "metadata": {},
   "source": [
    "**Seaborn heatmaps**"
   ]
  },
  {
   "cell_type": "markdown",
   "metadata": {},
   "source": [
    "A heatmap is a graphical representation of data that uses colors to depict the value of a variable in a two-dimensional space. Heatmaps are commonly used to visualize the correlation between different variables in a dataset."
   ]
  },
  {
   "cell_type": "code",
   "execution_count": null,
   "metadata": {},
   "outputs": [],
   "source": [
    "# Load the dataset\n",
    "\n",
    "tips = sns.load_dataset('tips')\n",
    "\n",
    "# Create a heatmap of the correlation between variables\n",
    "\n",
    "corr = tips.corr()\n",
    "\n",
    "sns.heatmap(corr)\n",
    "\n",
    "# Show the plot\n",
    "\n",
    "plt.show()"
   ]
  },
  {
   "cell_type": "markdown",
   "metadata": {},
   "source": [
    "Another example of a heatmap using the `flights` dataset."
   ]
  },
  {
   "cell_type": "markdown",
   "metadata": {},
   "source": [
    "We pivot the data to make it suitable for heatmap representation using the .pivot() method. Then, we create a heatmap using the sns.heatmap() function and pass the pivoted flights variable as the argument. "
   ]
  },
  {
   "cell_type": "code",
   "execution_count": null,
   "metadata": {},
   "outputs": [],
   "source": [
    "# Load the dataset\n",
    "\n",
    "flights = sns.load_dataset('flights')\n",
    "\n",
    "# Pivot the data\n",
    "\n",
    "flights = flights.pivot('month', 'year', 'passengers')\n",
    "\n",
    "# Create a heatmap\n",
    "\n",
    "sns.heatmap(flights, cmap='Blues', annot=True, fmt='d')\n",
    "\n",
    "# Set the title and axis labels\n",
    "\n",
    "plt.title('Passengers per month')\n",
    "\n",
    "plt.xlabel('Year')\n",
    "\n",
    "plt.ylabel('Month')\n",
    "\n",
    "# Show the plot\n",
    "\n",
    "plt.show()"
   ]
  },
  {
   "cell_type": "markdown",
   "metadata": {},
   "source": [
    "**Seaborn pair plots**"
   ]
  },
  {
   "cell_type": "markdown",
   "metadata": {},
   "source": [
    "Pair plots are a type of visualization in which multiple pairwise scatter plots are displayed in a matrix format. Each scatter plot shows the relationship between two variables, while the diagonal plots show the distribution of the individual variables."
   ]
  },
  {
   "cell_type": "code",
   "execution_count": null,
   "metadata": {},
   "outputs": [],
   "source": [
    "# Load iris dataset\n",
    "\n",
    "iris = sns.load_dataset(\"iris\")\n",
    "\n",
    "# Create pair plot\n",
    "\n",
    "sns.pairplot(data=iris)\n",
    "\n",
    "# Show plot\n",
    "\n",
    "plt.show()"
   ]
  },
  {
   "cell_type": "markdown",
   "metadata": {},
   "source": [
    "\n",
    "We can customize this plot by using `hue` and `diag_kind` parameter."
   ]
  },
  {
   "cell_type": "code",
   "execution_count": null,
   "metadata": {},
   "outputs": [],
   "source": [
    "# Create pair plot with custom settings\n",
    "\n",
    "sns.pairplot(data=iris, hue=\"species\", diag_kind=\"kde\", palette=\"husl\")\n",
    "\n",
    "# Set title\n",
    "\n",
    "plt.title(\"Iris Dataset Pair Plot\")\n",
    "\n",
    "# Show plot\n",
    "\n",
    "plt.show()"
   ]
  },
  {
   "cell_type": "markdown",
   "metadata": {},
   "source": [
    "**Seaborn joint plots**"
   ]
  },
  {
   "cell_type": "markdown",
   "metadata": {},
   "source": [
    "Joint plot is a powerful visualization technique in seaborn that combines two different plots in one visualization: a scatter plot and a histogram. The scatter plot shows the relationship between two variables, while the histogram shows the distribution of each individual variable. This allows for a more comprehensive analysis of the data, as it shows the correlation between the two variables and their individual distributions."
   ]
  },
  {
   "cell_type": "markdown",
   "metadata": {},
   "source": [
    "Here is a simple example of building a seaborn joint plot using the iris dataset:"
   ]
  },
  {
   "cell_type": "code",
   "execution_count": null,
   "metadata": {},
   "outputs": [],
   "source": [
    "# load iris dataset\n",
    "\n",
    "iris = sns.load_dataset(\"iris\")\n",
    "\n",
    "# plot a joint plot of sepal length and sepal width\n",
    "\n",
    "sns.jointplot(x=\"sepal_length\", y=\"sepal_width\", data=iris)\n",
    "\n",
    "# display the plot\n",
    "\n",
    "plt.show()"
   ]
  },
  {
   "cell_type": "markdown",
   "metadata": {},
   "source": [
    "**Seaborn facet grids**"
   ]
  },
  {
   "cell_type": "markdown",
   "metadata": {},
   "source": [
    "FacetGrid is a powerful seaborn tool that allows you to visualize the distribution of one variable as well as the relationship between two variables, across levels of additional categorical variables. \n",
    "\n",
    "FacetGrid creates a grid of subplots based on the unique values in the categorical variable specified."
   ]
  },
  {
   "cell_type": "code",
   "execution_count": null,
   "metadata": {},
   "outputs": [],
   "source": [
    "# load the tips dataset\n",
    "\n",
    "tips = sns.load_dataset('tips')\n",
    "\n",
    "# create a FacetGrid for day vs total_bill\n",
    "\n",
    "g = sns.FacetGrid(tips, col=\"day\")\n",
    "\n",
    "# plot histogram for total_bill in each day\n",
    "\n",
    "g.map(sns.histplot, \"total_bill\")"
   ]
  },
  {
   "cell_type": "markdown",
   "metadata": {},
   "source": [
    "**Customizing Seaborn plots**"
   ]
  },
  {
   "cell_type": "markdown",
   "metadata": {},
   "source": [
    "Seaborn is a powerful data visualization library that provides numerous ways to customize the appearance of plots. Customizing Seaborn plots is an essential part of creating meaningful and visually appealing visualizations. "
   ]
  },
  {
   "cell_type": "markdown",
   "metadata": {},
   "source": [
    "Here are some examples of customizing seaborn plots:"
   ]
  },
  {
   "cell_type": "markdown",
   "metadata": {},
   "source": [
    "**Changing Color Palettes**"
   ]
  },
  {
   "cell_type": "markdown",
   "metadata": {},
   "source": [
    "Here is  an example of how you can change the color palettes of your seaborn plots"
   ]
  },
  {
   "cell_type": "code",
   "execution_count": null,
   "metadata": {},
   "outputs": [],
   "source": [
    "# Load sample dataset\n",
    "\n",
    "tips = sns.load_dataset(\"tips\")\n",
    "\n",
    "# Create a scatter plot with color palette\n",
    "\n",
    "sns.scatterplot(x=\"total_bill\", y=\"tip\", hue=\"day\", data=tips, palette=\"Set2\")\n",
    "\n",
    "# Customize plot\n",
    "\n",
    "plt.title(\"Total Bill vs Tip\")\n",
    "\n",
    "plt.xlabel(\"Total Bill ($)\")\n",
    "\n",
    "plt.ylabel(\"Tip ($)\")\n",
    "\n",
    "plt.show()"
   ]
  },
  {
   "cell_type": "markdown",
   "metadata": {},
   "source": [
    "**Adjusting Figure Size**"
   ]
  },
  {
   "cell_type": "markdown",
   "metadata": {},
   "source": [
    "To adjust the figure size on your seaborn plots"
   ]
  },
  {
   "cell_type": "code",
   "execution_count": null,
   "metadata": {},
   "outputs": [],
   "source": [
    "# Load sample dataset\n",
    "\n",
    "iris = sns.load_dataset(\"iris\")\n",
    "\n",
    "# Create a violin plot with adjusted figure size\n",
    "\n",
    "plt.figure(figsize=(8,6))\n",
    "\n",
    "sns.violinplot(x=\"species\", y=\"petal_length\", data=iris)\n",
    "\n",
    "# Customize plot\n",
    "\n",
    "plt.title(\"Petal Length Distribution by Species\")\n",
    "\n",
    "plt.xlabel(\"Species\")\n",
    "\n",
    "plt.ylabel(\"Petal Length (cm)\")\n",
    "\n",
    "plt.show()"
   ]
  },
  {
   "cell_type": "markdown",
   "metadata": {},
   "source": [
    "**Adding Annotations**"
   ]
  },
  {
   "cell_type": "markdown",
   "metadata": {},
   "source": [
    "Annotations can help to make your visualizations easier to read."
   ]
  },
  {
   "cell_type": "code",
   "execution_count": null,
   "metadata": {},
   "outputs": [],
   "source": [
    "# Load sample dataset\n",
    "\n",
    "diamonds = sns.load_dataset(\"diamonds\")\n",
    "\n",
    "# Create a scatter plot with annotations\n",
    "\n",
    "sns.scatterplot(x=\"carat\", y=\"price\", data=diamonds)\n",
    "\n",
    "# Add annotations\n",
    "\n",
    "plt.text(1, 18000, \"Large, Expensive Diamonds\", fontsize=12, color=\"red\")\n",
    "\n",
    "plt.text(2.5, 5000, \"Small, Affordable Diamonds\", fontsize=12, color=\"blue\")\n",
    "\n",
    "# Customize plot\n",
    "\n",
    "plt.title(\"Diamond Prices by Carat\")\n",
    "\n",
    "plt.xlabel(\"Carat (ct)\")\n",
    "\n",
    "plt.ylabel(\"Price ($)\")\n",
    "\n",
    "plt.show()"
   ]
  },
  {
   "cell_type": "markdown",
   "metadata": {},
   "source": [
    "Reference Link for Seaborn Documentation:\n",
    "    https://seaborn.pydata.org/"
   ]
  },
  {
   "cell_type": "markdown",
   "metadata": {},
   "source": [
    "#  ! Great Job"
   ]
  }
 ],
 "metadata": {
  "kernelspec": {
   "display_name": "Python 3",
   "language": "python",
   "name": "python3"
  },
  "language_info": {
   "codemirror_mode": {
    "name": "ipython",
    "version": 3
   },
   "file_extension": ".py",
   "mimetype": "text/x-python",
   "name": "python",
   "nbconvert_exporter": "python",
   "pygments_lexer": "ipython3",
   "version": "3.7.4"
  }
 },
 "nbformat": 4,
 "nbformat_minor": 4
}
