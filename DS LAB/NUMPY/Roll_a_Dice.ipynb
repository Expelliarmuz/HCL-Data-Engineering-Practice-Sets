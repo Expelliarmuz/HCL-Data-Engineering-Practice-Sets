{
 "cells": [
  {
   "cell_type": "code",
   "execution_count": null,
   "metadata": {},
   "outputs": [],
   "source": [
    "import numpy as np"
   ]
  },
  {
   "cell_type": "code",
   "execution_count": null,
   "metadata": {},
   "outputs": [],
   "source": [
    "def roll_die():\n",
    "    return np.random.randint(1, 7)"
   ]
  },
  {
   "cell_type": "code",
   "execution_count": null,
   "metadata": {},
   "outputs": [],
   "source": [
    "def play_game(target_score):\n",
    "    player_score = 0\n",
    "    computer_score = 0\n",
    "\n",
    "    while True:\n",
    "        input(\"Press Enter to roll your die...\")\n",
    "        player_roll = roll_die()\n",
    "        print(f\"You rolled a {player_roll}\")\n",
    "        player_score += player_roll\n",
    "        print(f\"Your current score: {player_score}\")\n",
    "\n",
    "        if player_score >= target_score:\n",
    "            print(\"Congratulations! You win!\")\n",
    "            break\n",
    "\n",
    "        computer_roll = roll_die()\n",
    "        print(f\"The computer rolled a {computer_roll}\")\n",
    "        computer_score += computer_roll\n",
    "        print(f\"Computer's current score: {computer_score}\")\n",
    "\n",
    "        if computer_score >= target_score:\n",
    "            print(\"Sorry, the computer wins!\")\n",
    "            break\n",
    "\n",
    "    print(f\"Final Score - You: {player_score}, Computer: {computer_score}\")\n",
    "\n",
    "target_score = 10  # You can set the target score here\n",
    "print(f\"Welcome to the Dice Game! The target score is {target_score}.\")\n",
    "play_game(target_score)"
   ]
  },
  {
   "cell_type": "code",
   "execution_count": null,
   "metadata": {},
   "outputs": [],
   "source": []
  }
 ],
 "metadata": {
  "kernelspec": {
   "display_name": "Python 3",
   "language": "python",
   "name": "python3"
  },
  "language_info": {
   "codemirror_mode": {
    "name": "ipython",
    "version": 3
   },
   "file_extension": ".py",
   "mimetype": "text/x-python",
   "name": "python",
   "nbconvert_exporter": "python",
   "pygments_lexer": "ipython3",
   "version": "3.7.4"
  }
 },
 "nbformat": 4,
 "nbformat_minor": 4
}
