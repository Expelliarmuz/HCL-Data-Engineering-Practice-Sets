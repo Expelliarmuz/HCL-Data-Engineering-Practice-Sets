{
 "cells": [
  {
   "cell_type": "markdown",
   "metadata": {},
   "source": [
    "## Introduction"
   ]
  },
  {
   "cell_type": "markdown",
   "metadata": {},
   "source": [
    "Matplotlib is the \"grandfather\" library of data visualization with Python. It was created by John Hunter. He created it to try to replicate MatLab's (another programming language) plotting capabilities in Python. So if you happen to be familiar with matlab, matplotlib will feel natural to you.\n",
    "\n",
    "It is an excellent 2D and 3D graphics library for generating scientific figures. \n",
    "\n",
    "Some of the major Pros of Matplotlib are:\n",
    "\n",
    "* Generally easy to get started for simple plots\n",
    "* Support for custom labels and texts\n",
    "* Great control of every element in a figure\n",
    "* High-quality output in many formats\n",
    "* Very customizable in general\n",
    "\n",
    "Matplotlib allows you to create reproducible figures programmatically. Let's learn how to use it! Before continuing this lecture, I encourage you just to explore the official Matplotlib web page: http://matplotlib.org/\n",
    "\n",
    "## Installation \n",
    "\n",
    "You'll need to install matplotlib first with either:\n",
    "\n",
    "    conda install matplotlib\n",
    "or\n",
    "    pip install matplotlib\n",
    "    \n",
    "## Importing"
   ]
  },
  {
   "cell_type": "markdown",
   "metadata": {},
   "source": [
    "Import the `matplotlib.pyplot` module under the name `plt` (the tidy way):"
   ]
  },
  {
   "cell_type": "code",
   "execution_count": 1,
   "metadata": {},
   "outputs": [],
   "source": [
    "import matplotlib.pyplot as plt"
   ]
  },
  {
   "cell_type": "markdown",
   "metadata": {},
   "source": [
    "You'll also need to use this line to see plots in the notebook:"
   ]
  },
  {
   "cell_type": "code",
   "execution_count": 2,
   "metadata": {},
   "outputs": [],
   "source": [
    "%matplotlib inline"
   ]
  },
  {
   "cell_type": "markdown",
   "metadata": {},
   "source": [
    "That line is only for jupyter notebooks, if you are using another editor, you'll use: **plt.show()** at the end of all your plotting commands to have the figure pop up in another window."
   ]
  },
  {
   "cell_type": "markdown",
   "metadata": {
    "collapsed": true
   },
   "source": [
    "# Basic Example\n",
    "\n",
    "Let's walk through a very simple example using two numpy arrays:"
   ]
  },
  {
   "cell_type": "markdown",
   "metadata": {},
   "source": [
    "### Example\n",
    "\n",
    "Let's walk through a very simple example using two numpy arrays. You can also use lists, but most likely you'll be passing numpy arrays or pandas columns (which essentially also behave like arrays).\n",
    "\n",
    "** The data we want to plot:**"
   ]
  },
  {
   "cell_type": "code",
   "execution_count": 3,
   "metadata": {},
   "outputs": [],
   "source": [
    "import numpy as np\n",
    "x = np.linspace(0, 5, 11)\n",
    "y = x ** 3\n",
    "# y = np.arange(0,11)"
   ]
  },
  {
   "cell_type": "code",
   "execution_count": 4,
   "metadata": {},
   "outputs": [
    {
     "data": {
      "text/plain": [
       "array([0. , 0.5, 1. , 1.5, 2. , 2.5, 3. , 3.5, 4. , 4.5, 5. ])"
      ]
     },
     "execution_count": 4,
     "metadata": {},
     "output_type": "execute_result"
    }
   ],
   "source": [
    "x"
   ]
  },
  {
   "cell_type": "code",
   "execution_count": 5,
   "metadata": {},
   "outputs": [
    {
     "data": {
      "text/plain": [
       "array([  0.   ,   0.125,   1.   ,   3.375,   8.   ,  15.625,  27.   ,\n",
       "        42.875,  64.   ,  91.125, 125.   ])"
      ]
     },
     "execution_count": 5,
     "metadata": {},
     "output_type": "execute_result"
    }
   ],
   "source": [
    "y"
   ]
  },
  {
   "cell_type": "markdown",
   "metadata": {},
   "source": [
    "## Basic Matplotlib Commands\n",
    "\n",
    "We can create a very simple line plot using the following ( I encourage you to pause and use Shift+Tab along the way to check out the document strings for the functions we are using)."
   ]
  },
  {
   "cell_type": "code",
   "execution_count": 10,
   "metadata": {},
   "outputs": [
    {
     "data": {
      "text/plain": [
       "Text(0.5, 1.0, 'String Title Here')"
      ]
     },
     "execution_count": 10,
     "metadata": {},
     "output_type": "execute_result"
    },
    {
     "data": {
      "image/png": "[encoded data removed]",
      "text/plain": [
       "<Figure size 432x288 with 1 Axes>"
      ]
     },
     "metadata": {
      "needs_background": "light"
     },
     "output_type": "display_data"
    }
   ],
   "source": [
    "plt.plot(x, y, 'r') # 'r' is the color red\n",
    "plt.xlabel('X Axis Title Here')\n",
    "plt.ylabel('Y Axis Title Here')\n",
    "plt.title('String Title Here')\n",
    "# plt.show()"
   ]
  },
  {
   "cell_type": "markdown",
   "metadata": {},
   "source": [
    "## Creating Multiplots on Same Canvas"
   ]
  },
  {
   "cell_type": "code",
   "execution_count": 11,
   "metadata": {},
   "outputs": [
    {
     "data": {
      "image/png": "[encoded data removed]",
      "text/plain": [
       "<Figure size 432x288 with 3 Axes>"
      ]
     },
     "metadata": {
      "needs_background": "light"
     },
     "output_type": "display_data"
    }
   ],
   "source": [
    "# plt.subplot(nrows, ncols, plot_number)\n",
    "plt.subplot(1,3,1)\n",
    "plt.plot(x, y, 'o--') # More on color options later\n",
    "plt.subplot(1,3,2)\n",
    "plt.plot(x, y, 'g*-');\n",
    "plt.subplot(1,3,3)\n",
    "plt.plot(x, y, 'r*-');"
   ]
  },
  {
   "cell_type": "markdown",
   "metadata": {},
   "source": [
    "___\n",
    "# Matplotlib Object Oriented Method\n",
    "Now that we've seen the basics, let's break it all down with a more formal introduction of Matplotlib's Object Oriented API. This means we will instantiate figure objects and then call methods or attributes from that object."
   ]
  },
  {
   "cell_type": "markdown",
   "metadata": {},
   "source": [
    "## Introduction to the Object Oriented Method"
   ]
  },
  {
   "cell_type": "markdown",
   "metadata": {},
   "source": [
    "The main idea in using the more formal Object Oriented method is to create figure objects and then just call methods or attributes off of that object. This approach is nicer when dealing with a canvas that has multiple plots on it. \n",
    "\n",
    "To begin we create a figure instance. Then we can add axes to that figure:"
   ]
  },
  {
   "cell_type": "code",
   "execution_count": null,
   "metadata": {},
   "outputs": [],
   "source": [
    "# Create Figure (empty canvas)\n",
    "fig = plt.figure()\n",
    "\n",
    "# Add set of axes to figure\n",
    "axes = fig.add_axes([0.1, 0.1, 0.8, 0.8]) # left, bottom, width, height (range 0 to 1)\n",
    "\n",
    "# Plot on that set of axes\n",
    "axes.plot(x, y, 'b')\n",
    "axes.set_xlabel('Set X Label') # Notice the use of set_ to begin methods\n",
    "axes.set_ylabel('Set y Label')\n",
    "axes.set_title('Set Title')"
   ]
  },
  {
   "cell_type": "markdown",
   "metadata": {},
   "source": [
    "Code is a little more complicated, but the advantage is that we now have full control of where the plot axes are placed, and we can easily add more than one axis to the figure:"
   ]
  },
  {
   "cell_type": "code",
   "execution_count": 1,
   "metadata": {},
   "outputs": [
    {
     "ename": "NameError",
     "evalue": "name 'plt' is not defined",
     "output_type": "error",
     "traceback": [
      "\u001b[1;31m---------------------------------------------------------------------------\u001b[0m",
      "\u001b[1;31mNameError\u001b[0m                                 Traceback (most recent call last)",
      "Cell \u001b[1;32mIn[1], line 2\u001b[0m\n\u001b[0;32m      1\u001b[0m \u001b[38;5;66;03m# Creates blank canvas\u001b[39;00m\n\u001b[1;32m----> 2\u001b[0m fig \u001b[38;5;241m=\u001b[39m plt\u001b[38;5;241m.\u001b[39mfigure()\n\u001b[0;32m      4\u001b[0m axes1 \u001b[38;5;241m=\u001b[39m fig\u001b[38;5;241m.\u001b[39madd_axes([\u001b[38;5;241m0.1\u001b[39m, \u001b[38;5;241m0.1\u001b[39m, \u001b[38;5;241m0.8\u001b[39m, \u001b[38;5;241m0.8\u001b[39m]) \u001b[38;5;66;03m# main axes\u001b[39;00m\n\u001b[0;32m      5\u001b[0m axes2 \u001b[38;5;241m=\u001b[39m fig\u001b[38;5;241m.\u001b[39madd_axes([\u001b[38;5;241m0.2\u001b[39m, \u001b[38;5;241m0.5\u001b[39m, \u001b[38;5;241m0.4\u001b[39m, \u001b[38;5;241m0.3\u001b[39m]) \u001b[38;5;66;03m# inset axes\u001b[39;00m\n",
      "\u001b[1;31mNameError\u001b[0m: name 'plt' is not defined"
     ]
    }
   ],
   "source": [
    "# Creates blank canvas\n",
    "fig = plt.figure()\n",
    "\n",
    "axes1 = fig.add_axes([0.1, 0.1, 0.8, 0.8]) # main axes\n",
    "axes2 = fig.add_axes([0.2, 0.5, 0.4, 0.3]) # inset axes\n",
    "\n",
    "# Larger Figure Axes 1\n",
    "axes1.plot(x, y, 'b')\n",
    "axes1.set_xlabel('X_label_axes2')\n",
    "axes1.set_ylabel('Y_label_axes2')\n",
    "axes1.set_title('Axes 2 Title')\n",
    "\n",
    "# Insert Figure Axes 2\n",
    "axes2.plot(y, x, 'r')\n",
    "axes2.set_xlabel('X_label_axes2')\n",
    "axes2.set_ylabel('Y_label_axes2')\n",
    "axes2.set_title('Axes 2 Title');"
   ]
  },
  {
   "cell_type": "markdown",
   "metadata": {},
   "source": [
    "## subplots()\n",
    "\n",
    "The plt.subplots() object will act as a more automatic axis manager.\n",
    "\n",
    "Basic use cases:"
   ]
  },
  {
   "cell_type": "code",
   "execution_count": null,
   "metadata": {},
   "outputs": [],
   "source": [
    "# Use similar to plt.figure() except use tuple unpacking to grab fig and axes\n",
    "fig, axes = plt.subplots()\n",
    "\n",
    "# Now use the axes object to add stuff to plot\n",
    "axes.plot(x, y, 'r')\n",
    "axes.set_xlabel('x')\n",
    "axes.set_ylabel('y')\n",
    "axes.set_title('title');"
   ]
  },
  {
   "cell_type": "markdown",
   "metadata": {},
   "source": [
    "Then you can specify the number of rows and columns when creating the subplots() object:"
   ]
  },
  {
   "cell_type": "code",
   "execution_count": null,
   "metadata": {},
   "outputs": [],
   "source": [
    "# Empty canvas of 1 by 2 subplots\n",
    "fig, axes = plt.subplots(nrows=1, ncols=2)"
   ]
  },
  {
   "cell_type": "code",
   "execution_count": null,
   "metadata": {},
   "outputs": [],
   "source": [
    "# Axes is an array of axes to plot on\n",
    "axes"
   ]
  },
  {
   "cell_type": "markdown",
   "metadata": {},
   "source": [
    "We can iterate through this array:"
   ]
  },
  {
   "cell_type": "code",
   "execution_count": null,
   "metadata": {},
   "outputs": [],
   "source": [
    "for ax in axes:\n",
    "    ax.plot(x, y, 'b')\n",
    "    ax.set_xlabel('x')\n",
    "    ax.set_ylabel('y')\n",
    "    ax.set_title('title')\n",
    "\n",
    "# Display the figure object    \n",
    "fig"
   ]
  },
  {
   "cell_type": "markdown",
   "metadata": {},
   "source": [
    "A common issue with matplolib is overlapping subplots or figures. We ca use **fig.tight_layout()** or **plt.tight_layout()** method, which automatically adjusts the positions of the axes on the figure canvas so that there is no overlapping content:"
   ]
  },
  {
   "cell_type": "code",
   "execution_count": null,
   "metadata": {},
   "outputs": [],
   "source": [
    "fig, axes = plt.subplots(nrows=1, ncols=2)\n",
    "\n",
    "for ax in axes:\n",
    "    ax.plot(x, y, 'g')\n",
    "    ax.set_xlabel('x')\n",
    "    ax.set_ylabel('y')\n",
    "    ax.set_title('title')\n",
    "\n",
    "plt.tight_layout()"
   ]
  },
  {
   "cell_type": "markdown",
   "metadata": {},
   "source": [
    "### Figure size, aspect ratio and DPI"
   ]
  },
  {
   "cell_type": "markdown",
   "metadata": {},
   "source": [
    "Matplotlib allows the aspect ratio, DPI and figure size to be specified when the Figure object is created. You can use the `figsize` and `dpi` keyword arguments. \n",
    "* `figsize` is a tuple of the width and height of the figure in inches\n",
    "* `dpi` is the dots-per-inch (pixel per inch). \n",
    "\n",
    "For example:"
   ]
  },
  {
   "cell_type": "code",
   "execution_count": null,
   "metadata": {},
   "outputs": [],
   "source": [
    "fig = plt.figure(figsize=(8,4), dpi=100)"
   ]
  },
  {
   "cell_type": "markdown",
   "metadata": {},
   "source": [
    "The same arguments can also be passed to layout managers, such as the `subplots` function:"
   ]
  },
  {
   "cell_type": "code",
   "execution_count": null,
   "metadata": {},
   "outputs": [],
   "source": [
    "fig, axes = plt.subplots(figsize=(12,5))\n",
    "\n",
    "axes.plot(x, y, 'r')\n",
    "axes.set_xlabel('x')\n",
    "axes.set_ylabel('y')\n",
    "axes.set_title('title');"
   ]
  },
  {
   "cell_type": "markdown",
   "metadata": {},
   "source": [
    "## Saving figures\n",
    "Matplotlib can generate high-quality output in a number formats, including PNG, JPG, EPS, SVG, PGF and PDF. "
   ]
  },
  {
   "cell_type": "markdown",
   "metadata": {},
   "source": [
    "To save a figure to a file we can use the `savefig` method in the `Figure` class:"
   ]
  },
  {
   "cell_type": "code",
   "execution_count": null,
   "metadata": {},
   "outputs": [],
   "source": [
    "fig.savefig(\"filename.jpg\")"
   ]
  },
  {
   "cell_type": "markdown",
   "metadata": {},
   "source": [
    "Here we can also optionally specify the DPI and choose between different output formats:"
   ]
  },
  {
   "cell_type": "code",
   "execution_count": null,
   "metadata": {},
   "outputs": [],
   "source": [
    "fig.savefig(\"filename.png\", dpi=200)"
   ]
  },
  {
   "cell_type": "markdown",
   "metadata": {},
   "source": [
    "## Legends, labels and titles"
   ]
  },
  {
   "cell_type": "markdown",
   "metadata": {},
   "source": [
    "Now that we have covered the basics of how to create a figure canvas and add axes instances to the canvas, let's look at how decorate a figure with titles, axis labels, and legends."
   ]
  },
  {
   "cell_type": "markdown",
   "metadata": {},
   "source": [
    "**Figure titles**\n",
    "\n",
    "A title can be added to each axis instance in a figure. To set the title, use the `set_title` method in the axes instance:"
   ]
  },
  {
   "cell_type": "code",
   "execution_count": null,
   "metadata": {},
   "outputs": [],
   "source": [
    "ax.set_title(\"title\");"
   ]
  },
  {
   "cell_type": "markdown",
   "metadata": {},
   "source": [
    "**Axis labels**\n",
    "\n",
    "Similarly, with the methods `set_xlabel` and `set_ylabel`, we can set the labels of the X and Y axes:"
   ]
  },
  {
   "cell_type": "code",
   "execution_count": null,
   "metadata": {},
   "outputs": [],
   "source": [
    "ax.set_xlabel(\"x\")\n",
    "ax.set_ylabel(\"y\");"
   ]
  },
  {
   "cell_type": "markdown",
   "metadata": {},
   "source": [
    "### Legends"
   ]
  },
  {
   "cell_type": "markdown",
   "metadata": {},
   "source": [
    "You can use the **label=\"label text\"** keyword argument when plots or other objects are added to the figure, and then using the **legend** method without arguments to add the legend to the figure: "
   ]
  },
  {
   "cell_type": "code",
   "execution_count": null,
   "metadata": {},
   "outputs": [],
   "source": [
    "fig = plt.figure()\n",
    "\n",
    "ax = fig.add_axes([0,0,1,1])\n",
    "\n",
    "\n",
    "ax.plot(x, x**2, label=\"x**2\")\n",
    "ax.plot(x, x**3, label=\"x**3\")\n",
    "ax.legend()"
   ]
  },
  {
   "cell_type": "markdown",
   "metadata": {},
   "source": [
    "Notice how are legend overlaps some of the actual plot!\n",
    "\n",
    "The **legend** function takes an optional keyword argument **loc** that can be used to specify where in the figure the legend is to be drawn. The allowed values of **loc** are numerical codes for the various places the legend can be drawn. See the [documentation page](http://matplotlib.org/users/legend_guide.html#legend-location) for details. Some of the most common **loc** values are:"
   ]
  },
  {
   "cell_type": "code",
   "execution_count": null,
   "metadata": {},
   "outputs": [],
   "source": [
    "# Lots of options....\n",
    "\n",
    "# ax.legend(loc=1) # upper right corner\n",
    "# ax.legend(loc=2) # upper left corner\n",
    "# ax.legend(loc=3) # lower left corner\n",
    "# ax.legend(loc=4) # lower right corner\n",
    "\n",
    "# .. many more options are available\n",
    "\n",
    "# Most common to choose\n",
    "ax.legend(loc=1) # let matplotlib decide the optimal location\n",
    "fig"
   ]
  },
  {
   "cell_type": "markdown",
   "metadata": {},
   "source": [
    "## Setting colors, linewidths, linetypes\n",
    "\n",
    "Matplotlib gives you *a lot* of options for customizing colors, linewidths, and linetypes. \n",
    "\n",
    "There is the basic MATLAB like syntax (which I would suggest you avoid using for more clairty sake):"
   ]
  },
  {
   "cell_type": "markdown",
   "metadata": {},
   "source": [
    "### Colors with MatLab like syntax"
   ]
  },
  {
   "cell_type": "markdown",
   "metadata": {},
   "source": [
    "With matplotlib, we can define the colors of lines and other graphical elements in a number of ways. First of all, we can use the MATLAB-like syntax where `'b'` means blue, `'g'` means green, etc. The MATLAB API for selecting line styles are also supported: where, for example, 'b.-' means a blue line with dots:"
   ]
  },
  {
   "cell_type": "code",
   "execution_count": null,
   "metadata": {},
   "outputs": [],
   "source": [
    "# MATLAB style line color and style \n",
    "fig, ax = plt.subplots()\n",
    "ax.plot(x, x**2, 'b.-') # blue line with dots\n",
    "ax.plot(x, x**3, 'g*-') # green dashed line"
   ]
  },
  {
   "cell_type": "markdown",
   "metadata": {},
   "source": [
    "### Colors with the color= parameter"
   ]
  },
  {
   "cell_type": "markdown",
   "metadata": {},
   "source": [
    "We can also define colors by their names or RGB hex codes and optionally provide an alpha value using the `color` and `alpha` keyword arguments. Alpha indicates opacity."
   ]
  },
  {
   "cell_type": "code",
   "execution_count": null,
   "metadata": {},
   "outputs": [],
   "source": [
    "fig, ax = plt.subplots()\n",
    "\n",
    "ax.plot(x, x+1, color=\"blue\", alpha=0.5) # half-transparant\n",
    "ax.plot(x, x+2, color=\"green\")        # RGB hex code\n",
    "ax.plot(x, x+3, color=\"#FF8C00\")        # RGB hex code "
   ]
  },
  {
   "cell_type": "markdown",
   "metadata": {},
   "source": [
    "### Line and marker styles"
   ]
  },
  {
   "cell_type": "markdown",
   "metadata": {},
   "source": [
    "To change the line width, we can use the `linewidth` or `lw` keyword argument. The line style can be selected using the `linestyle` or `ls` keyword arguments:"
   ]
  },
  {
   "cell_type": "code",
   "execution_count": null,
   "metadata": {},
   "outputs": [],
   "source": [
    "# fig, ax = plt.subplots(figsize=(12,6))\n",
    "\n",
    "# ax.plot(x, x+1, color=\"red\", linewidth=0.25)\n",
    "# ax.plot(x, x+2, color=\"red\", linewidth=0.50)\n",
    "# ax.plot(x, x+3, color=\"red\", linewidth=1.00)\n",
    "# ax.plot(x, x+4, color=\"red\", linewidth=2.00)\n",
    "\n",
    "# # possible linestype options ‘-‘, ‘–’, ‘-.’, ‘:’, ‘steps’\n",
    "# ax.plot(x, x+5, color=\"green\", lw=3, linestyle='-')\n",
    "# ax.plot(x, x+6, color=\"green\", lw=3, ls='-.')\n",
    "# ax.plot(x, x+7, color=\"green\", lw=3, ls=':')\n",
    "\n",
    "# # custom dash\n",
    "# line, = ax.plot(x, x+8, color=\"black\", lw=1.50)\n",
    "# line.set_dashes([5, 10, 15, 10]) # format: line length, space length, ...\n",
    "\n",
    "# # possible marker symbols: marker = '+', 'o', '*', 's', ',', '.', '1', '2', '3', '4', ...\n",
    "# ax.plot(x, x+ 9, color=\"blue\", lw=3, ls='-', marker='+')\n",
    "# ax.plot(x, x+10, color=\"blue\", lw=3, ls='--', marker='o')\n",
    "# ax.plot(x, x+11, color=\"blue\", lw=3, ls='-', marker='s')\n",
    "# ax.plot(x, x+12, color=\"blue\", lw=3, ls='--', marker='1')\n",
    "\n",
    "# # marker size and color\n",
    "# ax.plot(x, x+13, color=\"purple\", lw=1, ls='-', marker='o', markersize=2)\n",
    "# ax.plot(x, x+14, color=\"purple\", lw=1, ls='-', marker='o', markersize=4)\n",
    "# ax.plot(x, x+15, color=\"purple\", lw=1, ls='-', marker='o', markersize=8, markerfacecolor=\"red\")\n",
    "# ax.plot(x, x+16, color=\"purple\", lw=1, ls='-', marker='s', markersize=8, \n",
    "#         markerfacecolor=\"yellow\", markeredgewidth=3, markeredgecolor=\"green\");"
   ]
  },
  {
   "cell_type": "markdown",
   "metadata": {},
   "source": [
    "### Control over axis appearance"
   ]
  },
  {
   "cell_type": "markdown",
   "metadata": {},
   "source": [
    "In this section we will look at controlling axis sizing properties in a matplotlib figure."
   ]
  },
  {
   "cell_type": "markdown",
   "metadata": {},
   "source": [
    "## Plot range"
   ]
  },
  {
   "cell_type": "markdown",
   "metadata": {},
   "source": [
    "We can configure the ranges of the axes using the `set_ylim` and `set_xlim` methods in the axis object, or `axis('tight')` for automatically getting \"tightly fitted\" axes ranges:"
   ]
  },
  {
   "cell_type": "code",
   "execution_count": null,
   "metadata": {},
   "outputs": [],
   "source": [
    "fig, axes = plt.subplots(1, 3, figsize=(12, 4))\n",
    "\n",
    "axes[0].plot(x, x**2, x, x**3)\n",
    "axes[0].set_title(\"default axes ranges\")\n",
    "\n",
    "axes[1].plot(x, x**2, x, x**3)\n",
    "axes[1].axis('tight')\n",
    "axes[1].set_title(\"tight axes\")\n",
    "\n",
    "axes[2].plot(x, x**2, x, x**3)\n",
    "axes[2].set_ylim([0, 60])\n",
    "axes[2].set_xlim([2, 5])\n",
    "axes[2].set_title(\"custom axes range\");"
   ]
  },
  {
   "cell_type": "markdown",
   "metadata": {},
   "source": [
    "# Special Plot Types\n",
    "\n",
    "There are many specialized plots we can create, such as barplots, histograms, scatter plots, and much more. Most of these type of plots we will actually create using seaborn, a statistical plotting library for Python. But here are a few examples of these type of plots:"
   ]
  },
  {
   "cell_type": "code",
   "execution_count": null,
   "metadata": {},
   "outputs": [],
   "source": [
    "plt.scatter(x,y)"
   ]
  },
  {
   "cell_type": "code",
   "execution_count": null,
   "metadata": {},
   "outputs": [],
   "source": [
    "from random import sample\n",
    "data = sample(range(1, 1000), 100)\n",
    "plt.hist(data,bins=10)\n",
    "# data"
   ]
  },
  {
   "cell_type": "code",
   "execution_count": null,
   "metadata": {},
   "outputs": [],
   "source": [
    "data = [np.random.normal(0, std, 100) for std in range(1, 4)]\n",
    "\n",
    "# rectangular box plot\n",
    "plt.boxplot(data,vert=True,patch_artist=True); \n",
    "# data"
   ]
  },
  {
   "cell_type": "markdown",
   "metadata": {},
   "source": [
    "## Further reading"
   ]
  },
  {
   "cell_type": "markdown",
   "metadata": {},
   "source": [
    "* http://www.matplotlib.org - The project web page for matplotlib.\n",
    "* http://matplotlib.org/gallery.html - A large gallery showcaseing various types of plots matplotlib can create. Highly recommended! "
   ]
  }
 ],
 "metadata": {
  "kernelspec": {
   "display_name": "Python 3 (ipykernel)",
   "language": "python",
   "name": "python3"
  },
  "language_info": {
   "codemirror_mode": {
    "name": "ipython",
    "version": 3
   },
   "file_extension": ".py",
   "mimetype": "text/x-python",
   "name": "python",
   "nbconvert_exporter": "python",
   "pygments_lexer": "ipython3",
   "version": "3.11.5"
  }
 },
 "nbformat": 4,
 "nbformat_minor": 1
}
